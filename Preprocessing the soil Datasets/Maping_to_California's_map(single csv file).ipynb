{
  "nbformat": 4,
  "nbformat_minor": 0,
  "metadata": {
    "colab": {
      "provenance": [],
      "authorship_tag": "ABX9TyPkzNyiA+InDuAu8yQOP6pT",
      "include_colab_link": true
    },
    "kernelspec": {
      "name": "python3",
      "display_name": "Python 3"
    },
    "language_info": {
      "name": "python"
    }
  },
  "cells": [
    {
      "cell_type": "markdown",
      "metadata": {
        "id": "view-in-github",
        "colab_type": "text"
      },
      "source": [
        "<a href=\"https://colab.research.google.com/github/Sohampatel26/OlivaresLab_ProjectContributions/blob/main/Plotting_and_shaping_to_California's_map.ipynb\" target=\"_parent\"><img src=\"https://colab.research.google.com/assets/colab-badge.svg\" alt=\"Open In Colab\"/></a>"
      ]
    },
    {
      "cell_type": "code",
      "execution_count": null,
      "metadata": {
        "id": "F3kgpB3QsiLr"
      },
      "outputs": [],
      "source": [
        "from google.colab import drive"
      ]
    },
    {
      "cell_type": "code",
      "source": [
        "drive.mount('/content/drive')"
      ],
      "metadata": {
        "colab": {
          "base_uri": "https://localhost:8080/"
        },
        "id": "Uj1PPAcvs2jd",
        "outputId": "f9513848-b7ff-4036-be53-cb32c7fa2407"
      },
      "execution_count": null,
      "outputs": [
        {
          "output_type": "stream",
          "name": "stdout",
          "text": [
            "Mounted at /content/drive\n"
          ]
        }
      ]
    },
    {
      "cell_type": "code",
      "source": [
        "import pandas as pd"
      ],
      "metadata": {
        "id": "izXAIrr9xQ0-"
      },
      "execution_count": null,
      "outputs": []
    },
    {
      "cell_type": "code",
      "source": [
        "upper_soil=  pd.read_csv('/content/drive/MyDrive/EE ML PFAS/Raster_Data/Environmental_Quality/Soil_Quality/Soil_Quality by year/upper_soil_data_by_year/year_2010/upper_soil_year_2010.csv')"
      ],
      "metadata": {
        "id": "hlXUuMf5tCQa"
      },
      "execution_count": null,
      "outputs": []
    },
    {
      "cell_type": "code",
      "source": [
        "print(upper_soil.columns)"
      ],
      "metadata": {
        "colab": {
          "base_uri": "https://localhost:8080/"
        },
        "id": "ReBEFM1d3hGD",
        "outputId": "426e8811-35d0-4dca-a979-21bdbe42fbdb"
      },
      "execution_count": null,
      "outputs": [
        {
          "output_type": "stream",
          "name": "stdout",
          "text": [
            "Index(['A_LabID', 'SiteID', 'StateID', 'Latitude', 'Longitude', 'CollDate',\n",
            "       'LandCover1', 'LandCover2', 'A_Depth', 'A_Quartz', 'A_Tot_K_fs',\n",
            "       'A_Tot_Plag', 'A_Tot_Flds', 'A_Tot_14A', 'A_Tot_10A', 'A_Kaolinit',\n",
            "       'A_Tot_Clay', 'A_Gibbsite', 'A_Calcite', 'A_Dolomite', 'A_Aragon',\n",
            "       'A_Tot_Carb', 'A_Analcime', 'A_Heuland', 'A_Tot_Zeol', 'A_Gypsum',\n",
            "       'A_Talc', 'A_Hornbl', 'A_Serpent', 'A_Hematite', 'A_Goethite',\n",
            "       'A_Pyroxene', 'A_Pyrite', 'A_Other', 'A_Amorph', 'A_Ag', 'A_Al', 'A_As',\n",
            "       'A_Ba', 'A_Be', 'A_Bi', 'A_C_Tot', 'A_C_Inorg', 'A_C_Org', 'A_Ca',\n",
            "       'A_Cd', 'A_Ce', 'A_Co', 'A_Cr', 'A_Cs', 'A_Cu', 'A_Fe', 'A_Ga', 'A_Hg',\n",
            "       'A_In', 'A_K', 'A_La', 'A_Li', 'A_Mg', 'A_Mn', 'A_Mo', 'A_Na', 'A_Nb',\n",
            "       'A_Ni', 'A_P', 'A_Pb', 'A_Rb', 'A_S', 'A_Sb', 'A_Sc', 'A_Se', 'A_Sn',\n",
            "       'A_Sr', 'A_Te', 'A_Th', 'A_Ti', 'A_Tl', 'A_U', 'A_V', 'A_W', 'A_Y',\n",
            "       'A_Zn', 'Year', 'Month'],\n",
            "      dtype='object')\n"
          ]
        }
      ]
    },
    {
      "cell_type": "code",
      "source": [
        "import geopandas as gpd\n",
        "\n",
        "# Load the California shapefile\n",
        "shapefile_path = '/content/drive/MyDrive/EE ML PFAS/Raw_Data/Mapping/California_Shapefile/California.shp'\n",
        "ca_shapefile = gpd.read_file(shapefile_path)\n",
        "\n",
        "# Convert soil data to GeoDataFrames, assuming they have latitude and longitude columns\n",
        "def convert_to_gdf(df, lat_col='Latitude', lon_col='Longitude'):\n",
        "    return gpd.GeoDataFrame(df, geometry=gpd.points_from_xy(df[lon_col], df[lat_col]), crs='EPSG:4326')\n",
        "\n",
        "upper_soil_gdf = convert_to_gdf(upper_soil)\n",
        "# lower_soil_gdf = convert_to_gdf(lower_soil_df)\n",
        "# top_soil_gdf = convert_to_gdf(top_soil_df)\n",
        "# soil_final_gdf = convert_to_gdf(soil_final_df)\n",
        "\n",
        "# Reproject to match California shapefile CRS\n",
        "ca_shapefile = ca_shapefile.to_crs('EPSG:4326')\n",
        "upper_soil_gdf = upper_soil_gdf.to_crs(ca_shapefile.crs)\n",
        "# lower_soil_gdf = lower_soil_gdf.to_crs(ca_shapefile.crs)\n",
        "# top_soil_gdf = top_soil_gdf.to_crs(ca_shapefile.crs)\n",
        "# soil_final_gdf = soil_final_gdf.to_crs(ca_shapefile.crs)\n",
        "\n",
        "# Perform spatial intersection\n",
        "upper_soil_ca = gpd.sjoin(upper_soil_gdf, ca_shapefile, how='inner', op='intersects')\n",
        "# lower_soil_ca = gpd.sjoin(lower_soil_gdf, ca_shapefile, how='inner', op='intersects')\n",
        "# top_soil_ca = gpd.sjoin(top_soil_gdf, ca_shapefile, how='inner', op='intersects')\n",
        "# soil_final_ca = gpd.sjoin(soil_final_gdf, ca_shapefile, how='inner', op='intersects')"
      ],
      "metadata": {
        "colab": {
          "base_uri": "https://localhost:8080/"
        },
        "id": "D_KAlDsttDLm",
        "outputId": "55d9c5a6-82b7-4a8c-b57d-b56789ed49d8"
      },
      "execution_count": null,
      "outputs": [
        {
          "output_type": "stream",
          "name": "stderr",
          "text": [
            "/usr/local/lib/python3.10/dist-packages/IPython/core/interactiveshell.py:3473: FutureWarning: The `op` parameter is deprecated and will be removed in a future release. Please use the `predicate` parameter instead.\n",
            "  if (await self.run_code(code, result,  async_=asy)):\n"
          ]
        }
      ]
    },
    {
      "cell_type": "code",
      "source": [
        "# Inspect latitude values\n",
        "print(\"Latitude summary:\")\n",
        "print(upper_soil_ca.geometry.bounds[['miny', 'maxy']].describe())\n",
        "\n",
        "# Check for invalid or missing latitude values\n",
        "invalid_latitudes = upper_soil_ca[\n",
        "    (upper_soil_ca.geometry.y < -90) | (upper_soil_ca.geometry.y > 90) | upper_soil_ca.geometry.y.isna()\n",
        "]\n",
        "print(\"\\nInvalid or missing latitudes:\")\n",
        "print(invalid_latitudes)"
      ],
      "metadata": {
        "colab": {
          "base_uri": "https://localhost:8080/"
        },
        "id": "Bje1Jf2U2l9f",
        "outputId": "6646288c-494d-4936-ab0e-3063378f8042"
      },
      "execution_count": null,
      "outputs": [
        {
          "output_type": "stream",
          "name": "stdout",
          "text": [
            "Latitude summary:\n",
            "             miny        maxy\n",
            "count  257.000000  257.000000\n",
            "mean    37.179132   37.179132\n",
            "std      2.593658    2.593658\n",
            "min     32.673000   32.673000\n",
            "25%     35.001500   35.001500\n",
            "50%     36.961000   36.961000\n",
            "75%     39.410800   39.410800\n",
            "max     41.986300   41.986300\n",
            "\n",
            "Invalid or missing latitudes:\n",
            "Empty GeoDataFrame\n",
            "Columns: [A_LabID, SiteID, StateID, Latitude, Longitude, CollDate, LandCover1, LandCover2, A_Depth, A_Quartz, A_Tot_K_fs, A_Tot_Plag, A_Tot_Flds, A_Tot_14A, A_Tot_10A, A_Kaolinit, A_Tot_Clay, A_Gibbsite, A_Calcite, A_Dolomite, A_Aragon, A_Tot_Carb, A_Analcime, A_Heuland, A_Tot_Zeol, A_Gypsum, A_Talc, A_Hornbl, A_Serpent, A_Hematite, A_Goethite, A_Pyroxene, A_Pyrite, A_Other, A_Amorph, A_Ag, A_Al, A_As, A_Ba, A_Be, A_Bi, A_C_Tot, A_C_Inorg, A_C_Org, A_Ca, A_Cd, A_Ce, A_Co, A_Cr, A_Cs, A_Cu, A_Fe, A_Ga, A_Hg, A_In, A_K, A_La, A_Li, A_Mg, A_Mn, A_Mo, A_Na, A_Nb, A_Ni, A_P, A_Pb, A_Rb, A_S, A_Sb, A_Sc, A_Se, A_Sn, A_Sr, A_Te, A_Th, A_Ti, A_Tl, A_U, A_V, A_W, A_Y, A_Zn, Year, Month, geometry, index_right, OBJECTID, ID, NAME, ST_ABBREV, TOTPOP_CY, RATE_POP, POPGRW00CY, POPGRWCYFY, LANDAREA, Pop2011, Shape_Leng, Shape_Area]\n",
            "Index: []\n",
            "\n",
            "[0 rows x 98 columns]\n"
          ]
        }
      ]
    },
    {
      "cell_type": "code",
      "source": [
        "import matplotlib.pyplot as plt\n",
        "\n",
        "def plot_and_save_tiff(gdf, title, output_path):\n",
        "    fig, ax = plt.subplots(figsize=(10, 10))\n",
        "    ca_shapefile.plot(ax=ax, color='lightgrey', edgecolor='black')\n",
        "    gdf.plot(ax=ax, color='blue', markersize=1)\n",
        "    plt.title(title)\n",
        "    plt.xlabel('Longitude')\n",
        "    plt.ylabel('Latitude')\n",
        "    plt.savefig(output_path, format='tiff')\n",
        "    plt.close()\n",
        "\n",
        "# Set paths to save TIFF files\n",
        "upper_soil_tiff_path = '/content/drive/MyDrive/EE ML PFAS/Raster_Data/Environmental_Quality/Soil_Quality/Upper_Soil_in_California.tif'\n",
        "# lower_soil_tiff_path = '/content/drive/MyDrive/Raster_Data/Lower_Soil_in_California.tif'\n",
        "# top_soil_tiff_path = '/content/drive/MyDrive/Raster_Data/Top_Soil_in_California.tif'\n",
        "# soil_final_tiff_path = '/content/drive/MyDrive/Raster_Data/Soil_Final_in_California.tif'\n",
        "\n",
        "# Plot and save each dataset as TIFF\n",
        "plot_and_save_tiff(upper_soil_ca, 'Upper Soil Layer in California', upper_soil_tiff_path)\n",
        "# plot_and_save_tiff(lower_soil_ca, 'Lower Soil Layer in California', lower_soil_tiff_path)\n",
        "# plot_and_save_tiff(top_soil_ca, 'Top Soil Layer in California', top_soil_tiff_path)\n",
        "# plot_and_save_tiff(soil_final_ca, 'Final Soil Data in California', soil_final_tiff_path)"
      ],
      "metadata": {
        "id": "53e2rMTqxyaS"
      },
      "execution_count": null,
      "outputs": []
    }
  ]
}