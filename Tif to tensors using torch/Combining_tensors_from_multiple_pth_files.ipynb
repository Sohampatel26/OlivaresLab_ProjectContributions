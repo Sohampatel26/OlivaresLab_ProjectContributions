{
  "nbformat": 4,
  "nbformat_minor": 0,
  "metadata": {
    "colab": {
      "provenance": []
    },
    "kernelspec": {
      "name": "python3",
      "display_name": "Python 3"
    },
    "language_info": {
      "name": "python"
    }
  },
  "cells": [
    {
      "cell_type": "code",
      "execution_count": null,
      "metadata": {
        "id": "SIulLo6ffs-Q"
      },
      "outputs": [],
      "source": [
        "import torch\n",
        "import os"
      ]
    },
    {
      "cell_type": "code",
      "source": [
        "def load_tensors(tensor_paths):\n",
        "    tensors = []\n",
        "    for path in tensor_paths:\n",
        "        tensors.append(torch.load(path))\n",
        "    return tensors"
      ],
      "metadata": {
        "id": "NbuNo8pZfv4z"
      },
      "execution_count": null,
      "outputs": []
    },
    {
      "cell_type": "code",
      "source": [
        "def combine_tensors(tensors):\n",
        "    combined_tensor = torch.cat(tensors, dim=0)\n",
        "    return combined_tensor"
      ],
      "metadata": {
        "id": "Dc-wKvpmfzu0"
      },
      "execution_count": null,
      "outputs": []
    },
    {
      "cell_type": "code",
      "source": [
        "def save_combined_tensor(tensor, output_path):\n",
        "    torch.save(tensor, output_path)\n",
        "\n",
        "if __name__ == \"__main__\":\n",
        "    tensor_folder = \"path/to/tensor/folder\"\n",
        "    output_path = \"path/to/save/combined_tensors.pth\"\n",
        "\n",
        "    # Get all tensor files\n",
        "    tensor_paths = [os.path.join(tensor_folder, f) for f in os.listdir(tensor_folder) if f.endswith('.pth')]\n",
        "\n",
        "    # Load all tensors\n",
        "    tensors = load_tensors(tensor_paths)\n",
        "\n",
        "    # Combine tensors\n",
        "    combined_tensor = combine_tensors(tensors)\n",
        "\n",
        "    # Save the combined tensor\n",
        "    save_combined_tensor(combined_tensor, output_path)"
      ],
      "metadata": {
        "id": "o5hdx4S8f2G9"
      },
      "execution_count": null,
      "outputs": []
    }
  ]
}