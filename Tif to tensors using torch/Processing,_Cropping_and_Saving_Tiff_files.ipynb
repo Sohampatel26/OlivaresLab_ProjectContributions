{
  "nbformat": 4,
  "nbformat_minor": 0,
  "metadata": {
    "colab": {
      "provenance": []
    },
    "kernelspec": {
      "name": "python3",
      "display_name": "Python 3"
    },
    "language_info": {
      "name": "python"
    }
  },
  "cells": [
    {
      "cell_type": "code",
      "execution_count": null,
      "metadata": {
        "id": "IITg3oBUfDcw"
      },
      "outputs": [],
      "source": [
        "import os\n",
        "import torch\n",
        "import rasterio\n",
        "import geopandas as gpd\n",
        "from rasterio.mask import mask\n",
        "import numpy as np"
      ]
    },
    {
      "cell_type": "code",
      "source": [
        "def process_tiff(tiff_path, shapefile_path, grid_size=10):\n",
        "    # Read the shapefile\n",
        "    california = gpd.read_file(shapefile_path)\n",
        "\n",
        "    # Read the TIFF file\n",
        "    with rasterio.open(tiff_path) as src:\n",
        "        # Crop the TIFF to the California border\n",
        "        california_bounds = california.geometry.bounds.iloc[0]\n",
        "        california_geom = [json.loads(california.geometry.to_json())['features'][0]['geometry']]\n",
        "        out_image, out_transform = mask(src, california_geom, crop=True)\n",
        "\n",
        "        # Get the width and height of the cropped image\n",
        "        height, width = out_image.shape[1], out_image.shape[2]\n",
        "\n",
        "        # Create a list to store the tensors\n",
        "        tensors = []\n",
        "\n",
        "        # Create the grid and convert each cell to a tensor\n",
        "        for i in range(0, height, grid_size):\n",
        "            for j in range(0, width, grid_size):\n",
        "                if i + grid_size <= height and j + grid_size <= width:\n",
        "                    cell = out_image[:, i:i+grid_size, j:j+grid_size]\n",
        "                    tensors.append(torch.tensor(cell, dtype=torch.float32))\n",
        "\n",
        "        # Stack all tensors into a single tensor\n",
        "        final_tensor = torch.stack(tensors)\n",
        "\n",
        "        return final_tensor"
      ],
      "metadata": {
        "id": "D-fMn-PYfHax"
      },
      "execution_count": null,
      "outputs": []
    },
    {
      "cell_type": "code",
      "source": [
        "def save_tensors(tensors, output_path):\n",
        "    torch.save(tensors, output_path)\n",
        "\n",
        "if __name__ == \"__main__\":\n",
        "    tiff_path = \"path/to/your/tiff/file.tif\"\n",
        "    shapefile_path = \"EE ML PFAS/Raw_Data/Mapping/California_Shapefile/California.shp\"\n",
        "    output_path = \"path/to/save/tensors.pth\"\n",
        "\n",
        "    tensors = process_tiff(tiff_path, shapefile_path)\n",
        "    save_tensors(tensors, output_path)"
      ],
      "metadata": {
        "id": "1F2M7XqBfKxz"
      },
      "execution_count": null,
      "outputs": []
    }
  ]
}