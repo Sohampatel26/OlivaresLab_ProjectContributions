{
  "nbformat": 4,
  "nbformat_minor": 0,
  "metadata": {
    "colab": {
      "provenance": []
    },
    "kernelspec": {
      "name": "python3",
      "display_name": "Python 3"
    },
    "language_info": {
      "name": "python"
    }
  },
  "cells": [
    {
      "cell_type": "code",
      "source": [
        "!pip install geopandas rasterio"
      ],
      "metadata": {
        "colab": {
          "base_uri": "https://localhost:8080/"
        },
        "id": "-qGRYkcstnOZ",
        "outputId": "2125bb41-910f-47f5-d931-e71ca5e2b93b"
      },
      "execution_count": null,
      "outputs": [
        {
          "output_type": "stream",
          "name": "stdout",
          "text": [
            "Requirement already satisfied: geopandas in /usr/local/lib/python3.10/dist-packages (0.13.2)\n",
            "Collecting rasterio\n",
            "  Downloading rasterio-1.3.10-cp310-cp310-manylinux2014_x86_64.whl (21.5 MB)\n",
            "\u001b[2K     \u001b[90m━━━━━━━━━━━━━━━━━━━━━━━━━━━━━━━━━━━━━━━━\u001b[0m \u001b[32m21.5/21.5 MB\u001b[0m \u001b[31m10.0 MB/s\u001b[0m eta \u001b[36m0:00:00\u001b[0m\n",
            "\u001b[?25hRequirement already satisfied: fiona>=1.8.19 in /usr/local/lib/python3.10/dist-packages (from geopandas) (1.9.6)\n",
            "Requirement already satisfied: packaging in /usr/local/lib/python3.10/dist-packages (from geopandas) (24.1)\n",
            "Requirement already satisfied: pandas>=1.1.0 in /usr/local/lib/python3.10/dist-packages (from geopandas) (2.0.3)\n",
            "Requirement already satisfied: pyproj>=3.0.1 in /usr/local/lib/python3.10/dist-packages (from geopandas) (3.6.1)\n",
            "Requirement already satisfied: shapely>=1.7.1 in /usr/local/lib/python3.10/dist-packages (from geopandas) (2.0.4)\n",
            "Collecting affine (from rasterio)\n",
            "  Downloading affine-2.4.0-py3-none-any.whl (15 kB)\n",
            "Requirement already satisfied: attrs in /usr/local/lib/python3.10/dist-packages (from rasterio) (23.2.0)\n",
            "Requirement already satisfied: certifi in /usr/local/lib/python3.10/dist-packages (from rasterio) (2024.6.2)\n",
            "Requirement already satisfied: click>=4.0 in /usr/local/lib/python3.10/dist-packages (from rasterio) (8.1.7)\n",
            "Requirement already satisfied: cligj>=0.5 in /usr/local/lib/python3.10/dist-packages (from rasterio) (0.7.2)\n",
            "Requirement already satisfied: numpy in /usr/local/lib/python3.10/dist-packages (from rasterio) (1.25.2)\n",
            "Collecting snuggs>=1.4.1 (from rasterio)\n",
            "  Downloading snuggs-1.4.7-py3-none-any.whl (5.4 kB)\n",
            "Requirement already satisfied: click-plugins in /usr/local/lib/python3.10/dist-packages (from rasterio) (1.1.1)\n",
            "Requirement already satisfied: setuptools in /usr/local/lib/python3.10/dist-packages (from rasterio) (67.7.2)\n",
            "Requirement already satisfied: six in /usr/local/lib/python3.10/dist-packages (from fiona>=1.8.19->geopandas) (1.16.0)\n",
            "Requirement already satisfied: python-dateutil>=2.8.2 in /usr/local/lib/python3.10/dist-packages (from pandas>=1.1.0->geopandas) (2.8.2)\n",
            "Requirement already satisfied: pytz>=2020.1 in /usr/local/lib/python3.10/dist-packages (from pandas>=1.1.0->geopandas) (2023.4)\n",
            "Requirement already satisfied: tzdata>=2022.1 in /usr/local/lib/python3.10/dist-packages (from pandas>=1.1.0->geopandas) (2024.1)\n",
            "Requirement already satisfied: pyparsing>=2.1.6 in /usr/local/lib/python3.10/dist-packages (from snuggs>=1.4.1->rasterio) (3.1.2)\n",
            "Installing collected packages: snuggs, affine, rasterio\n",
            "Successfully installed affine-2.4.0 rasterio-1.3.10 snuggs-1.4.7\n"
          ]
        }
      ]
    },
    {
      "cell_type": "code",
      "source": [
        "from google.colab import drive\n",
        "drive.mount('/content/drive')"
      ],
      "metadata": {
        "colab": {
          "base_uri": "https://localhost:8080/"
        },
        "id": "WHhbenUW_Ces",
        "outputId": "37da8c8d-e471-4f33-96ec-d332f613a559"
      },
      "execution_count": null,
      "outputs": [
        {
          "output_type": "stream",
          "name": "stdout",
          "text": [
            "Mounted at /content/drive\n"
          ]
        }
      ]
    },
    {
      "cell_type": "code",
      "execution_count": 7,
      "metadata": {
        "colab": {
          "base_uri": "https://localhost:8080/"
        },
        "id": "z5DOYNkN8hFb",
        "outputId": "3df057f8-b6b5-4045-ff42-e242eab18b29"
      },
      "outputs": [
        {
          "output_type": "stream",
          "name": "stderr",
          "text": [
            "/usr/local/lib/python3.10/dist-packages/IPython/core/interactiveshell.py:3473: FutureWarning: The `op` parameter is deprecated and will be removed in a future release. Please use the `predicate` parameter instead.\n",
            "  if (await self.run_code(code, result,  async_=asy)):\n",
            "/usr/local/lib/python3.10/dist-packages/IPython/core/interactiveshell.py:3473: FutureWarning: The `op` parameter is deprecated and will be removed in a future release. Please use the `predicate` parameter instead.\n",
            "  if (await self.run_code(code, result,  async_=asy)):\n",
            "/usr/local/lib/python3.10/dist-packages/IPython/core/interactiveshell.py:3473: FutureWarning: The `op` parameter is deprecated and will be removed in a future release. Please use the `predicate` parameter instead.\n",
            "  if (await self.run_code(code, result,  async_=asy)):\n"
          ]
        },
        {
          "output_type": "stream",
          "name": "stdout",
          "text": [
            "No valid geometries found for file: /content/drive/MyDrive/EE ML PFAS/Raster_Data/Environmental_Quality/Soil_Quality/Soil_Quality_Raster_Data /top_soil_year_quarter_2009_1.tif\n",
            "Processing complete.\n",
            "No valid geometries found for file: /content/drive/MyDrive/EE ML PFAS/Raster_Data/Environmental_Quality/Soil_Quality/Soil_Quality_Raster_Data /upper_soil_year_quarter_2007_2.tif\n",
            "Processing complete.\n",
            "No valid geometries found for file: /content/drive/MyDrive/EE ML PFAS/Raster_Data/Environmental_Quality/Soil_Quality/Soil_Quality_Raster_Data /upper_soil_year_quarter_2007_3.tif\n",
            "Processing complete.\n"
          ]
        },
        {
          "output_type": "stream",
          "name": "stderr",
          "text": [
            "/usr/local/lib/python3.10/dist-packages/IPython/core/interactiveshell.py:3473: FutureWarning: The `op` parameter is deprecated and will be removed in a future release. Please use the `predicate` parameter instead.\n",
            "  if (await self.run_code(code, result,  async_=asy)):\n"
          ]
        },
        {
          "output_type": "stream",
          "name": "stdout",
          "text": [
            "Processing complete.\n"
          ]
        },
        {
          "output_type": "stream",
          "name": "stderr",
          "text": [
            "/usr/local/lib/python3.10/dist-packages/IPython/core/interactiveshell.py:3473: FutureWarning: The `op` parameter is deprecated and will be removed in a future release. Please use the `predicate` parameter instead.\n",
            "  if (await self.run_code(code, result,  async_=asy)):\n"
          ]
        },
        {
          "output_type": "stream",
          "name": "stdout",
          "text": [
            "No valid geometries found for file: /content/drive/MyDrive/EE ML PFAS/Raster_Data/Environmental_Quality/Soil_Quality/Soil_Quality_Raster_Data /top_soil_year_quarter_2009_3.tif\n",
            "Processing complete.\n"
          ]
        },
        {
          "output_type": "stream",
          "name": "stderr",
          "text": [
            "/usr/local/lib/python3.10/dist-packages/IPython/core/interactiveshell.py:3473: FutureWarning: The `op` parameter is deprecated and will be removed in a future release. Please use the `predicate` parameter instead.\n",
            "  if (await self.run_code(code, result,  async_=asy)):\n"
          ]
        },
        {
          "output_type": "stream",
          "name": "stdout",
          "text": [
            "No valid geometries found for file: /content/drive/MyDrive/EE ML PFAS/Raster_Data/Environmental_Quality/Soil_Quality/Soil_Quality_Raster_Data /top_soil_year_quarter_2009_2.tif\n",
            "Processing complete.\n"
          ]
        },
        {
          "output_type": "stream",
          "name": "stderr",
          "text": [
            "/usr/local/lib/python3.10/dist-packages/IPython/core/interactiveshell.py:3473: FutureWarning: The `op` parameter is deprecated and will be removed in a future release. Please use the `predicate` parameter instead.\n",
            "  if (await self.run_code(code, result,  async_=asy)):\n"
          ]
        },
        {
          "output_type": "stream",
          "name": "stdout",
          "text": [
            "No valid geometries found for file: /content/drive/MyDrive/EE ML PFAS/Raster_Data/Environmental_Quality/Soil_Quality/Soil_Quality_Raster_Data /top_soil_year_quarter_2010_1.tif\n",
            "Processing complete.\n"
          ]
        },
        {
          "output_type": "stream",
          "name": "stderr",
          "text": [
            "/usr/local/lib/python3.10/dist-packages/IPython/core/interactiveshell.py:3473: FutureWarning: The `op` parameter is deprecated and will be removed in a future release. Please use the `predicate` parameter instead.\n",
            "  if (await self.run_code(code, result,  async_=asy)):\n"
          ]
        },
        {
          "output_type": "stream",
          "name": "stdout",
          "text": [
            "No valid geometries found for file: /content/drive/MyDrive/EE ML PFAS/Raster_Data/Environmental_Quality/Soil_Quality/Soil_Quality_Raster_Data /upper_soil_year_quarter_2007_1.tif\n",
            "Processing complete.\n"
          ]
        },
        {
          "output_type": "stream",
          "name": "stderr",
          "text": [
            "/usr/local/lib/python3.10/dist-packages/IPython/core/interactiveshell.py:3473: FutureWarning: The `op` parameter is deprecated and will be removed in a future release. Please use the `predicate` parameter instead.\n",
            "  if (await self.run_code(code, result,  async_=asy)):\n"
          ]
        },
        {
          "output_type": "stream",
          "name": "stdout",
          "text": [
            "No valid geometries found for file: /content/drive/MyDrive/EE ML PFAS/Raster_Data/Environmental_Quality/Soil_Quality/Soil_Quality_Raster_Data /upper_soil_year_quarter_2007_4.tif\n",
            "Processing complete.\n"
          ]
        },
        {
          "output_type": "stream",
          "name": "stderr",
          "text": [
            "/usr/local/lib/python3.10/dist-packages/IPython/core/interactiveshell.py:3473: FutureWarning: The `op` parameter is deprecated and will be removed in a future release. Please use the `predicate` parameter instead.\n",
            "  if (await self.run_code(code, result,  async_=asy)):\n"
          ]
        },
        {
          "output_type": "stream",
          "name": "stdout",
          "text": [
            "No valid geometries found for file: /content/drive/MyDrive/EE ML PFAS/Raster_Data/Environmental_Quality/Soil_Quality/Soil_Quality_Raster_Data /top_soil_year_quarter_2009_4.tif\n",
            "Processing complete.\n"
          ]
        },
        {
          "output_type": "stream",
          "name": "stderr",
          "text": [
            "/usr/local/lib/python3.10/dist-packages/IPython/core/interactiveshell.py:3473: FutureWarning: The `op` parameter is deprecated and will be removed in a future release. Please use the `predicate` parameter instead.\n",
            "  if (await self.run_code(code, result,  async_=asy)):\n"
          ]
        },
        {
          "output_type": "stream",
          "name": "stdout",
          "text": [
            "Processing complete.\n"
          ]
        },
        {
          "output_type": "stream",
          "name": "stderr",
          "text": [
            "/usr/local/lib/python3.10/dist-packages/IPython/core/interactiveshell.py:3473: FutureWarning: The `op` parameter is deprecated and will be removed in a future release. Please use the `predicate` parameter instead.\n",
            "  if (await self.run_code(code, result,  async_=asy)):\n"
          ]
        },
        {
          "output_type": "stream",
          "name": "stdout",
          "text": [
            "Processing complete.\n"
          ]
        },
        {
          "output_type": "stream",
          "name": "stderr",
          "text": [
            "/usr/local/lib/python3.10/dist-packages/IPython/core/interactiveshell.py:3473: FutureWarning: The `op` parameter is deprecated and will be removed in a future release. Please use the `predicate` parameter instead.\n",
            "  if (await self.run_code(code, result,  async_=asy)):\n"
          ]
        },
        {
          "output_type": "stream",
          "name": "stdout",
          "text": [
            "No valid geometries found for file: /content/drive/MyDrive/EE ML PFAS/Raster_Data/Environmental_Quality/Soil_Quality/Soil_Quality_Raster_Data /top_soil_year_quarter_2011_3.tif\n",
            "Processing complete.\n"
          ]
        },
        {
          "output_type": "stream",
          "name": "stderr",
          "text": [
            "/usr/local/lib/python3.10/dist-packages/IPython/core/interactiveshell.py:3473: FutureWarning: The `op` parameter is deprecated and will be removed in a future release. Please use the `predicate` parameter instead.\n",
            "  if (await self.run_code(code, result,  async_=asy)):\n"
          ]
        },
        {
          "output_type": "stream",
          "name": "stdout",
          "text": [
            "No valid geometries found for file: /content/drive/MyDrive/EE ML PFAS/Raster_Data/Environmental_Quality/Soil_Quality/Soil_Quality_Raster_Data /top_soil_year_quarter_2008_1.tif\n",
            "Processing complete.\n"
          ]
        },
        {
          "output_type": "stream",
          "name": "stderr",
          "text": [
            "/usr/local/lib/python3.10/dist-packages/IPython/core/interactiveshell.py:3473: FutureWarning: The `op` parameter is deprecated and will be removed in a future release. Please use the `predicate` parameter instead.\n",
            "  if (await self.run_code(code, result,  async_=asy)):\n"
          ]
        },
        {
          "output_type": "stream",
          "name": "stdout",
          "text": [
            "No valid geometries found for file: /content/drive/MyDrive/EE ML PFAS/Raster_Data/Environmental_Quality/Soil_Quality/Soil_Quality_Raster_Data /top_soil_year_quarter_2010_4.tif\n",
            "Processing complete.\n"
          ]
        },
        {
          "output_type": "stream",
          "name": "stderr",
          "text": [
            "/usr/local/lib/python3.10/dist-packages/IPython/core/interactiveshell.py:3473: FutureWarning: The `op` parameter is deprecated and will be removed in a future release. Please use the `predicate` parameter instead.\n",
            "  if (await self.run_code(code, result,  async_=asy)):\n"
          ]
        },
        {
          "output_type": "stream",
          "name": "stdout",
          "text": [
            "No valid geometries found for file: /content/drive/MyDrive/EE ML PFAS/Raster_Data/Environmental_Quality/Soil_Quality/Soil_Quality_Raster_Data /top_soil_year_quarter_2008_2.tif\n",
            "Processing complete.\n"
          ]
        },
        {
          "output_type": "stream",
          "name": "stderr",
          "text": [
            "/usr/local/lib/python3.10/dist-packages/IPython/core/interactiveshell.py:3473: FutureWarning: The `op` parameter is deprecated and will be removed in a future release. Please use the `predicate` parameter instead.\n",
            "  if (await self.run_code(code, result,  async_=asy)):\n"
          ]
        },
        {
          "output_type": "stream",
          "name": "stdout",
          "text": [
            "No valid geometries found for file: /content/drive/MyDrive/EE ML PFAS/Raster_Data/Environmental_Quality/Soil_Quality/Soil_Quality_Raster_Data /top_soil_year_quarter_2011_2.tif\n",
            "Processing complete.\n"
          ]
        },
        {
          "output_type": "stream",
          "name": "stderr",
          "text": [
            "/usr/local/lib/python3.10/dist-packages/IPython/core/interactiveshell.py:3473: FutureWarning: The `op` parameter is deprecated and will be removed in a future release. Please use the `predicate` parameter instead.\n",
            "  if (await self.run_code(code, result,  async_=asy)):\n"
          ]
        },
        {
          "output_type": "stream",
          "name": "stdout",
          "text": [
            "No valid geometries found for file: /content/drive/MyDrive/EE ML PFAS/Raster_Data/Environmental_Quality/Soil_Quality/Soil_Quality_Raster_Data /lower_soil_year_quarter_2007_4.tif\n",
            "Processing complete.\n"
          ]
        },
        {
          "output_type": "stream",
          "name": "stderr",
          "text": [
            "/usr/local/lib/python3.10/dist-packages/IPython/core/interactiveshell.py:3473: FutureWarning: The `op` parameter is deprecated and will be removed in a future release. Please use the `predicate` parameter instead.\n",
            "  if (await self.run_code(code, result,  async_=asy)):\n"
          ]
        },
        {
          "output_type": "stream",
          "name": "stdout",
          "text": [
            "No valid geometries found for file: /content/drive/MyDrive/EE ML PFAS/Raster_Data/Environmental_Quality/Soil_Quality/Soil_Quality_Raster_Data /top_soil_year_quarter_2008_4.tif\n",
            "Processing complete.\n"
          ]
        },
        {
          "output_type": "stream",
          "name": "stderr",
          "text": [
            "/usr/local/lib/python3.10/dist-packages/IPython/core/interactiveshell.py:3473: FutureWarning: The `op` parameter is deprecated and will be removed in a future release. Please use the `predicate` parameter instead.\n",
            "  if (await self.run_code(code, result,  async_=asy)):\n"
          ]
        },
        {
          "output_type": "stream",
          "name": "stdout",
          "text": [
            "No valid geometries found for file: /content/drive/MyDrive/EE ML PFAS/Raster_Data/Environmental_Quality/Soil_Quality/Soil_Quality_Raster_Data /lower_soil_year_quarter_2007_1.tif\n",
            "Processing complete.\n"
          ]
        },
        {
          "output_type": "stream",
          "name": "stderr",
          "text": [
            "/usr/local/lib/python3.10/dist-packages/IPython/core/interactiveshell.py:3473: FutureWarning: The `op` parameter is deprecated and will be removed in a future release. Please use the `predicate` parameter instead.\n",
            "  if (await self.run_code(code, result,  async_=asy)):\n"
          ]
        },
        {
          "output_type": "stream",
          "name": "stdout",
          "text": [
            "No valid geometries found for file: /content/drive/MyDrive/EE ML PFAS/Raster_Data/Environmental_Quality/Soil_Quality/Soil_Quality_Raster_Data /top_soil_year_quarter_2011_1.tif\n",
            "Processing complete.\n"
          ]
        },
        {
          "output_type": "stream",
          "name": "stderr",
          "text": [
            "/usr/local/lib/python3.10/dist-packages/IPython/core/interactiveshell.py:3473: FutureWarning: The `op` parameter is deprecated and will be removed in a future release. Please use the `predicate` parameter instead.\n",
            "  if (await self.run_code(code, result,  async_=asy)):\n"
          ]
        },
        {
          "output_type": "stream",
          "name": "stdout",
          "text": [
            "No valid geometries found for file: /content/drive/MyDrive/EE ML PFAS/Raster_Data/Environmental_Quality/Soil_Quality/Soil_Quality_Raster_Data /top_soil_year_quarter_2008_3.tif\n",
            "Processing complete.\n"
          ]
        },
        {
          "output_type": "stream",
          "name": "stderr",
          "text": [
            "/usr/local/lib/python3.10/dist-packages/IPython/core/interactiveshell.py:3473: FutureWarning: The `op` parameter is deprecated and will be removed in a future release. Please use the `predicate` parameter instead.\n",
            "  if (await self.run_code(code, result,  async_=asy)):\n"
          ]
        },
        {
          "output_type": "stream",
          "name": "stdout",
          "text": [
            "No valid geometries found for file: /content/drive/MyDrive/EE ML PFAS/Raster_Data/Environmental_Quality/Soil_Quality/Soil_Quality_Raster_Data /lower_soil_year_quarter_2007_2.tif\n",
            "Processing complete.\n"
          ]
        },
        {
          "output_type": "stream",
          "name": "stderr",
          "text": [
            "/usr/local/lib/python3.10/dist-packages/IPython/core/interactiveshell.py:3473: FutureWarning: The `op` parameter is deprecated and will be removed in a future release. Please use the `predicate` parameter instead.\n",
            "  if (await self.run_code(code, result,  async_=asy)):\n"
          ]
        },
        {
          "output_type": "stream",
          "name": "stdout",
          "text": [
            "No valid geometries found for file: /content/drive/MyDrive/EE ML PFAS/Raster_Data/Environmental_Quality/Soil_Quality/Soil_Quality_Raster_Data /upper_soil_year_quarter_2011_4.tif\n",
            "Processing complete.\n"
          ]
        },
        {
          "output_type": "stream",
          "name": "stderr",
          "text": [
            "/usr/local/lib/python3.10/dist-packages/IPython/core/interactiveshell.py:3473: FutureWarning: The `op` parameter is deprecated and will be removed in a future release. Please use the `predicate` parameter instead.\n",
            "  if (await self.run_code(code, result,  async_=asy)):\n"
          ]
        },
        {
          "output_type": "stream",
          "name": "stdout",
          "text": [
            "No valid geometries found for file: /content/drive/MyDrive/EE ML PFAS/Raster_Data/Environmental_Quality/Soil_Quality/Soil_Quality_Raster_Data /top_soil_year_quarter_2011_4.tif\n",
            "Processing complete.\n"
          ]
        },
        {
          "output_type": "stream",
          "name": "stderr",
          "text": [
            "/usr/local/lib/python3.10/dist-packages/IPython/core/interactiveshell.py:3473: FutureWarning: The `op` parameter is deprecated and will be removed in a future release. Please use the `predicate` parameter instead.\n",
            "  if (await self.run_code(code, result,  async_=asy)):\n"
          ]
        },
        {
          "output_type": "stream",
          "name": "stdout",
          "text": [
            "No valid geometries found for file: /content/drive/MyDrive/EE ML PFAS/Raster_Data/Environmental_Quality/Soil_Quality/Soil_Quality_Raster_Data /lower_soil_year_quarter_2009_1.tif\n",
            "Processing complete.\n"
          ]
        },
        {
          "output_type": "stream",
          "name": "stderr",
          "text": [
            "/usr/local/lib/python3.10/dist-packages/IPython/core/interactiveshell.py:3473: FutureWarning: The `op` parameter is deprecated and will be removed in a future release. Please use the `predicate` parameter instead.\n",
            "  if (await self.run_code(code, result,  async_=asy)):\n"
          ]
        },
        {
          "output_type": "stream",
          "name": "stdout",
          "text": [
            "No valid geometries found for file: /content/drive/MyDrive/EE ML PFAS/Raster_Data/Environmental_Quality/Soil_Quality/Soil_Quality_Raster_Data /lower_soil_year_quarter_2007_3.tif\n",
            "Processing complete.\n"
          ]
        },
        {
          "output_type": "stream",
          "name": "stderr",
          "text": [
            "/usr/local/lib/python3.10/dist-packages/IPython/core/interactiveshell.py:3473: FutureWarning: The `op` parameter is deprecated and will be removed in a future release. Please use the `predicate` parameter instead.\n",
            "  if (await self.run_code(code, result,  async_=asy)):\n"
          ]
        },
        {
          "output_type": "stream",
          "name": "stdout",
          "text": [
            "No valid geometries found for file: /content/drive/MyDrive/EE ML PFAS/Raster_Data/Environmental_Quality/Soil_Quality/Soil_Quality_Raster_Data /lower_soil_year_quarter_2009_2.tif\n",
            "Processing complete.\n"
          ]
        },
        {
          "output_type": "stream",
          "name": "stderr",
          "text": [
            "/usr/local/lib/python3.10/dist-packages/IPython/core/interactiveshell.py:3473: FutureWarning: The `op` parameter is deprecated and will be removed in a future release. Please use the `predicate` parameter instead.\n",
            "  if (await self.run_code(code, result,  async_=asy)):\n"
          ]
        },
        {
          "output_type": "stream",
          "name": "stdout",
          "text": [
            "No valid geometries found for file: /content/drive/MyDrive/EE ML PFAS/Raster_Data/Environmental_Quality/Soil_Quality/Soil_Quality_Raster_Data /lower_soil_year_quarter_2010_1.tif\n",
            "Processing complete.\n"
          ]
        },
        {
          "output_type": "stream",
          "name": "stderr",
          "text": [
            "/usr/local/lib/python3.10/dist-packages/IPython/core/interactiveshell.py:3473: FutureWarning: The `op` parameter is deprecated and will be removed in a future release. Please use the `predicate` parameter instead.\n",
            "  if (await self.run_code(code, result,  async_=asy)):\n"
          ]
        },
        {
          "output_type": "stream",
          "name": "stdout",
          "text": [
            "No valid geometries found for file: /content/drive/MyDrive/EE ML PFAS/Raster_Data/Environmental_Quality/Soil_Quality/Soil_Quality_Raster_Data /lower_soil_year_quarter_2009_3.tif\n",
            "Processing complete.\n"
          ]
        },
        {
          "output_type": "stream",
          "name": "stderr",
          "text": [
            "/usr/local/lib/python3.10/dist-packages/IPython/core/interactiveshell.py:3473: FutureWarning: The `op` parameter is deprecated and will be removed in a future release. Please use the `predicate` parameter instead.\n",
            "  if (await self.run_code(code, result,  async_=asy)):\n"
          ]
        },
        {
          "output_type": "stream",
          "name": "stdout",
          "text": [
            "Processing complete.\n"
          ]
        },
        {
          "output_type": "stream",
          "name": "stderr",
          "text": [
            "/usr/local/lib/python3.10/dist-packages/IPython/core/interactiveshell.py:3473: FutureWarning: The `op` parameter is deprecated and will be removed in a future release. Please use the `predicate` parameter instead.\n",
            "  if (await self.run_code(code, result,  async_=asy)):\n"
          ]
        },
        {
          "output_type": "stream",
          "name": "stdout",
          "text": [
            "No valid geometries found for file: /content/drive/MyDrive/EE ML PFAS/Raster_Data/Environmental_Quality/Soil_Quality/Soil_Quality_Raster_Data /lower_soil_year_quarter_2008_2.tif\n",
            "Processing complete.\n"
          ]
        },
        {
          "output_type": "stream",
          "name": "stderr",
          "text": [
            "/usr/local/lib/python3.10/dist-packages/IPython/core/interactiveshell.py:3473: FutureWarning: The `op` parameter is deprecated and will be removed in a future release. Please use the `predicate` parameter instead.\n",
            "  if (await self.run_code(code, result,  async_=asy)):\n"
          ]
        },
        {
          "output_type": "stream",
          "name": "stdout",
          "text": [
            "No valid geometries found for file: /content/drive/MyDrive/EE ML PFAS/Raster_Data/Environmental_Quality/Soil_Quality/Soil_Quality_Raster_Data /upper_soil_year_quarter_2008_4.tif\n",
            "Processing complete.\n"
          ]
        },
        {
          "output_type": "stream",
          "name": "stderr",
          "text": [
            "/usr/local/lib/python3.10/dist-packages/IPython/core/interactiveshell.py:3473: FutureWarning: The `op` parameter is deprecated and will be removed in a future release. Please use the `predicate` parameter instead.\n",
            "  if (await self.run_code(code, result,  async_=asy)):\n"
          ]
        },
        {
          "output_type": "stream",
          "name": "stdout",
          "text": [
            "No valid geometries found for file: /content/drive/MyDrive/EE ML PFAS/Raster_Data/Environmental_Quality/Soil_Quality/Soil_Quality_Raster_Data /upper_soil_year_quarter_2011_1.tif\n",
            "Processing complete.\n"
          ]
        },
        {
          "output_type": "stream",
          "name": "stderr",
          "text": [
            "/usr/local/lib/python3.10/dist-packages/IPython/core/interactiveshell.py:3473: FutureWarning: The `op` parameter is deprecated and will be removed in a future release. Please use the `predicate` parameter instead.\n",
            "  if (await self.run_code(code, result,  async_=asy)):\n"
          ]
        },
        {
          "output_type": "stream",
          "name": "stdout",
          "text": [
            "No valid geometries found for file: /content/drive/MyDrive/EE ML PFAS/Raster_Data/Environmental_Quality/Soil_Quality/Soil_Quality_Raster_Data /upper_soil_year_quarter_2008_1.tif\n",
            "Processing complete.\n"
          ]
        },
        {
          "output_type": "stream",
          "name": "stderr",
          "text": [
            "/usr/local/lib/python3.10/dist-packages/IPython/core/interactiveshell.py:3473: FutureWarning: The `op` parameter is deprecated and will be removed in a future release. Please use the `predicate` parameter instead.\n",
            "  if (await self.run_code(code, result,  async_=asy)):\n"
          ]
        },
        {
          "output_type": "stream",
          "name": "stdout",
          "text": [
            "No valid geometries found for file: /content/drive/MyDrive/EE ML PFAS/Raster_Data/Environmental_Quality/Soil_Quality/Soil_Quality_Raster_Data /upper_soil_year_quarter_2011_3.tif\n",
            "Processing complete.\n"
          ]
        },
        {
          "output_type": "stream",
          "name": "stderr",
          "text": [
            "/usr/local/lib/python3.10/dist-packages/IPython/core/interactiveshell.py:3473: FutureWarning: The `op` parameter is deprecated and will be removed in a future release. Please use the `predicate` parameter instead.\n",
            "  if (await self.run_code(code, result,  async_=asy)):\n"
          ]
        },
        {
          "output_type": "stream",
          "name": "stdout",
          "text": [
            "No valid geometries found for file: /content/drive/MyDrive/EE ML PFAS/Raster_Data/Environmental_Quality/Soil_Quality/Soil_Quality_Raster_Data /lower_soil_year_quarter_2010_4.tif\n",
            "Processing complete.\n"
          ]
        },
        {
          "output_type": "stream",
          "name": "stderr",
          "text": [
            "/usr/local/lib/python3.10/dist-packages/IPython/core/interactiveshell.py:3473: FutureWarning: The `op` parameter is deprecated and will be removed in a future release. Please use the `predicate` parameter instead.\n",
            "  if (await self.run_code(code, result,  async_=asy)):\n"
          ]
        },
        {
          "output_type": "stream",
          "name": "stdout",
          "text": [
            "No valid geometries found for file: /content/drive/MyDrive/EE ML PFAS/Raster_Data/Environmental_Quality/Soil_Quality/Soil_Quality_Raster_Data /lower_soil_year_quarter_2011_3.tif\n",
            "Processing complete.\n"
          ]
        },
        {
          "output_type": "stream",
          "name": "stderr",
          "text": [
            "/usr/local/lib/python3.10/dist-packages/IPython/core/interactiveshell.py:3473: FutureWarning: The `op` parameter is deprecated and will be removed in a future release. Please use the `predicate` parameter instead.\n",
            "  if (await self.run_code(code, result,  async_=asy)):\n"
          ]
        },
        {
          "output_type": "stream",
          "name": "stdout",
          "text": [
            "No valid geometries found for file: /content/drive/MyDrive/EE ML PFAS/Raster_Data/Environmental_Quality/Soil_Quality/Soil_Quality_Raster_Data /lower_soil_year_quarter_2009_4.tif\n",
            "Processing complete.\n"
          ]
        },
        {
          "output_type": "stream",
          "name": "stderr",
          "text": [
            "/usr/local/lib/python3.10/dist-packages/IPython/core/interactiveshell.py:3473: FutureWarning: The `op` parameter is deprecated and will be removed in a future release. Please use the `predicate` parameter instead.\n",
            "  if (await self.run_code(code, result,  async_=asy)):\n"
          ]
        },
        {
          "output_type": "stream",
          "name": "stdout",
          "text": [
            "No valid geometries found for file: /content/drive/MyDrive/EE ML PFAS/Raster_Data/Environmental_Quality/Soil_Quality/Soil_Quality_Raster_Data /upper_soil_year_quarter_2011_2.tif\n",
            "Processing complete.\n"
          ]
        },
        {
          "output_type": "stream",
          "name": "stderr",
          "text": [
            "/usr/local/lib/python3.10/dist-packages/IPython/core/interactiveshell.py:3473: FutureWarning: The `op` parameter is deprecated and will be removed in a future release. Please use the `predicate` parameter instead.\n",
            "  if (await self.run_code(code, result,  async_=asy)):\n"
          ]
        },
        {
          "output_type": "stream",
          "name": "stdout",
          "text": [
            "No valid geometries found for file: /content/drive/MyDrive/EE ML PFAS/Raster_Data/Environmental_Quality/Soil_Quality/Soil_Quality_Raster_Data /upper_soil_year_quarter_2008_3.tif\n",
            "Processing complete.\n"
          ]
        },
        {
          "output_type": "stream",
          "name": "stderr",
          "text": [
            "/usr/local/lib/python3.10/dist-packages/IPython/core/interactiveshell.py:3473: FutureWarning: The `op` parameter is deprecated and will be removed in a future release. Please use the `predicate` parameter instead.\n",
            "  if (await self.run_code(code, result,  async_=asy)):\n"
          ]
        },
        {
          "output_type": "stream",
          "name": "stdout",
          "text": [
            "No valid geometries found for file: /content/drive/MyDrive/EE ML PFAS/Raster_Data/Environmental_Quality/Soil_Quality/Soil_Quality_Raster_Data /upper_soil_year_quarter_2008_2.tif\n",
            "Processing complete.\n"
          ]
        },
        {
          "output_type": "stream",
          "name": "stderr",
          "text": [
            "/usr/local/lib/python3.10/dist-packages/IPython/core/interactiveshell.py:3473: FutureWarning: The `op` parameter is deprecated and will be removed in a future release. Please use the `predicate` parameter instead.\n",
            "  if (await self.run_code(code, result,  async_=asy)):\n"
          ]
        },
        {
          "output_type": "stream",
          "name": "stdout",
          "text": [
            "No valid geometries found for file: /content/drive/MyDrive/EE ML PFAS/Raster_Data/Environmental_Quality/Soil_Quality/Soil_Quality_Raster_Data /upper_soil_year_quarter_2010_4.tif\n",
            "Processing complete.\n"
          ]
        },
        {
          "output_type": "stream",
          "name": "stderr",
          "text": [
            "/usr/local/lib/python3.10/dist-packages/IPython/core/interactiveshell.py:3473: FutureWarning: The `op` parameter is deprecated and will be removed in a future release. Please use the `predicate` parameter instead.\n",
            "  if (await self.run_code(code, result,  async_=asy)):\n"
          ]
        },
        {
          "output_type": "stream",
          "name": "stdout",
          "text": [
            "No valid geometries found for file: /content/drive/MyDrive/EE ML PFAS/Raster_Data/Environmental_Quality/Soil_Quality/Soil_Quality_Raster_Data /lower_soil_year_quarter_2011_2.tif\n",
            "Processing complete.\n"
          ]
        },
        {
          "output_type": "stream",
          "name": "stderr",
          "text": [
            "/usr/local/lib/python3.10/dist-packages/IPython/core/interactiveshell.py:3473: FutureWarning: The `op` parameter is deprecated and will be removed in a future release. Please use the `predicate` parameter instead.\n",
            "  if (await self.run_code(code, result,  async_=asy)):\n"
          ]
        },
        {
          "output_type": "stream",
          "name": "stdout",
          "text": [
            "No valid geometries found for file: /content/drive/MyDrive/EE ML PFAS/Raster_Data/Environmental_Quality/Soil_Quality/Soil_Quality_Raster_Data /lower_soil_year_quarter_2011_1.tif\n",
            "Processing complete.\n"
          ]
        },
        {
          "output_type": "stream",
          "name": "stderr",
          "text": [
            "/usr/local/lib/python3.10/dist-packages/IPython/core/interactiveshell.py:3473: FutureWarning: The `op` parameter is deprecated and will be removed in a future release. Please use the `predicate` parameter instead.\n",
            "  if (await self.run_code(code, result,  async_=asy)):\n"
          ]
        },
        {
          "output_type": "stream",
          "name": "stdout",
          "text": [
            "No valid geometries found for file: /content/drive/MyDrive/EE ML PFAS/Raster_Data/Environmental_Quality/Soil_Quality/Soil_Quality_Raster_Data /lower_soil_year_quarter_2008_1.tif\n",
            "Processing complete.\n"
          ]
        },
        {
          "output_type": "stream",
          "name": "stderr",
          "text": [
            "/usr/local/lib/python3.10/dist-packages/IPython/core/interactiveshell.py:3473: FutureWarning: The `op` parameter is deprecated and will be removed in a future release. Please use the `predicate` parameter instead.\n",
            "  if (await self.run_code(code, result,  async_=asy)):\n"
          ]
        },
        {
          "output_type": "stream",
          "name": "stdout",
          "text": [
            "No valid geometries found for file: /content/drive/MyDrive/EE ML PFAS/Raster_Data/Environmental_Quality/Soil_Quality/Soil_Quality_Raster_Data /top_soil_year_quarter_2007_4.tif\n",
            "Processing complete.\n"
          ]
        },
        {
          "output_type": "stream",
          "name": "stderr",
          "text": [
            "/usr/local/lib/python3.10/dist-packages/IPython/core/interactiveshell.py:3473: FutureWarning: The `op` parameter is deprecated and will be removed in a future release. Please use the `predicate` parameter instead.\n",
            "  if (await self.run_code(code, result,  async_=asy)):\n"
          ]
        },
        {
          "output_type": "stream",
          "name": "stdout",
          "text": [
            "No valid geometries found for file: /content/drive/MyDrive/EE ML PFAS/Raster_Data/Environmental_Quality/Soil_Quality/Soil_Quality_Raster_Data /lower_soil_year_quarter_2008_3.tif\n",
            "Processing complete.\n"
          ]
        },
        {
          "output_type": "stream",
          "name": "stderr",
          "text": [
            "/usr/local/lib/python3.10/dist-packages/IPython/core/interactiveshell.py:3473: FutureWarning: The `op` parameter is deprecated and will be removed in a future release. Please use the `predicate` parameter instead.\n",
            "  if (await self.run_code(code, result,  async_=asy)):\n"
          ]
        },
        {
          "output_type": "stream",
          "name": "stdout",
          "text": [
            "No valid geometries found for file: /content/drive/MyDrive/EE ML PFAS/Raster_Data/Environmental_Quality/Soil_Quality/Soil_Quality_Raster_Data /upper_soil_year_quarter_2009_4.tif\n",
            "Processing complete.\n"
          ]
        },
        {
          "output_type": "stream",
          "name": "stderr",
          "text": [
            "/usr/local/lib/python3.10/dist-packages/IPython/core/interactiveshell.py:3473: FutureWarning: The `op` parameter is deprecated and will be removed in a future release. Please use the `predicate` parameter instead.\n",
            "  if (await self.run_code(code, result,  async_=asy)):\n"
          ]
        },
        {
          "output_type": "stream",
          "name": "stdout",
          "text": [
            "Processing complete.\n"
          ]
        },
        {
          "output_type": "stream",
          "name": "stderr",
          "text": [
            "/usr/local/lib/python3.10/dist-packages/IPython/core/interactiveshell.py:3473: FutureWarning: The `op` parameter is deprecated and will be removed in a future release. Please use the `predicate` parameter instead.\n",
            "  if (await self.run_code(code, result,  async_=asy)):\n"
          ]
        },
        {
          "output_type": "stream",
          "name": "stdout",
          "text": [
            "No valid geometries found for file: /content/drive/MyDrive/EE ML PFAS/Raster_Data/Environmental_Quality/Soil_Quality/Soil_Quality_Raster_Data /top_soil_year_quarter_2007_1.tif\n",
            "Processing complete.\n"
          ]
        },
        {
          "output_type": "stream",
          "name": "stderr",
          "text": [
            "/usr/local/lib/python3.10/dist-packages/IPython/core/interactiveshell.py:3473: FutureWarning: The `op` parameter is deprecated and will be removed in a future release. Please use the `predicate` parameter instead.\n",
            "  if (await self.run_code(code, result,  async_=asy)):\n"
          ]
        },
        {
          "output_type": "stream",
          "name": "stdout",
          "text": [
            "No valid geometries found for file: /content/drive/MyDrive/EE ML PFAS/Raster_Data/Environmental_Quality/Soil_Quality/Soil_Quality_Raster_Data /lower_soil_year_quarter_2008_4.tif\n",
            "Processing complete.\n"
          ]
        },
        {
          "output_type": "stream",
          "name": "stderr",
          "text": [
            "/usr/local/lib/python3.10/dist-packages/IPython/core/interactiveshell.py:3473: FutureWarning: The `op` parameter is deprecated and will be removed in a future release. Please use the `predicate` parameter instead.\n",
            "  if (await self.run_code(code, result,  async_=asy)):\n"
          ]
        },
        {
          "output_type": "stream",
          "name": "stdout",
          "text": [
            "Processing complete.\n"
          ]
        },
        {
          "output_type": "stream",
          "name": "stderr",
          "text": [
            "/usr/local/lib/python3.10/dist-packages/IPython/core/interactiveshell.py:3473: FutureWarning: The `op` parameter is deprecated and will be removed in a future release. Please use the `predicate` parameter instead.\n",
            "  if (await self.run_code(code, result,  async_=asy)):\n"
          ]
        },
        {
          "output_type": "stream",
          "name": "stdout",
          "text": [
            "No valid geometries found for file: /content/drive/MyDrive/EE ML PFAS/Raster_Data/Environmental_Quality/Soil_Quality/Soil_Quality_Raster_Data /upper_soil_year_quarter_2009_2.tif\n",
            "Processing complete.\n"
          ]
        },
        {
          "output_type": "stream",
          "name": "stderr",
          "text": [
            "/usr/local/lib/python3.10/dist-packages/IPython/core/interactiveshell.py:3473: FutureWarning: The `op` parameter is deprecated and will be removed in a future release. Please use the `predicate` parameter instead.\n",
            "  if (await self.run_code(code, result,  async_=asy)):\n"
          ]
        },
        {
          "output_type": "stream",
          "name": "stdout",
          "text": [
            "No valid geometries found for file: /content/drive/MyDrive/EE ML PFAS/Raster_Data/Environmental_Quality/Soil_Quality/Soil_Quality_Raster_Data /upper_soil_year_quarter_2009_3.tif\n",
            "Processing complete.\n"
          ]
        },
        {
          "output_type": "stream",
          "name": "stderr",
          "text": [
            "/usr/local/lib/python3.10/dist-packages/IPython/core/interactiveshell.py:3473: FutureWarning: The `op` parameter is deprecated and will be removed in a future release. Please use the `predicate` parameter instead.\n",
            "  if (await self.run_code(code, result,  async_=asy)):\n"
          ]
        },
        {
          "output_type": "stream",
          "name": "stdout",
          "text": [
            "No valid geometries found for file: /content/drive/MyDrive/EE ML PFAS/Raster_Data/Environmental_Quality/Soil_Quality/Soil_Quality_Raster_Data /upper_soil_year_quarter_2010_1.tif\n",
            "Processing complete.\n"
          ]
        },
        {
          "output_type": "stream",
          "name": "stderr",
          "text": [
            "/usr/local/lib/python3.10/dist-packages/IPython/core/interactiveshell.py:3473: FutureWarning: The `op` parameter is deprecated and will be removed in a future release. Please use the `predicate` parameter instead.\n",
            "  if (await self.run_code(code, result,  async_=asy)):\n"
          ]
        },
        {
          "output_type": "stream",
          "name": "stdout",
          "text": [
            "No valid geometries found for file: /content/drive/MyDrive/EE ML PFAS/Raster_Data/Environmental_Quality/Soil_Quality/Soil_Quality_Raster_Data /lower_soil_year_quarter_2011_4.tif\n",
            "Processing complete.\n"
          ]
        },
        {
          "output_type": "stream",
          "name": "stderr",
          "text": [
            "/usr/local/lib/python3.10/dist-packages/IPython/core/interactiveshell.py:3473: FutureWarning: The `op` parameter is deprecated and will be removed in a future release. Please use the `predicate` parameter instead.\n",
            "  if (await self.run_code(code, result,  async_=asy)):\n"
          ]
        },
        {
          "output_type": "stream",
          "name": "stdout",
          "text": [
            "No valid geometries found for file: /content/drive/MyDrive/EE ML PFAS/Raster_Data/Environmental_Quality/Soil_Quality/Soil_Quality_Raster_Data /top_soil_year_quarter_2007_2.tif\n",
            "Processing complete.\n"
          ]
        },
        {
          "output_type": "stream",
          "name": "stderr",
          "text": [
            "/usr/local/lib/python3.10/dist-packages/IPython/core/interactiveshell.py:3473: FutureWarning: The `op` parameter is deprecated and will be removed in a future release. Please use the `predicate` parameter instead.\n",
            "  if (await self.run_code(code, result,  async_=asy)):\n"
          ]
        },
        {
          "output_type": "stream",
          "name": "stdout",
          "text": [
            "No valid geometries found for file: /content/drive/MyDrive/EE ML PFAS/Raster_Data/Environmental_Quality/Soil_Quality/Soil_Quality_Raster_Data /upper_soil_year_quarter_2009_1.tif\n",
            "Processing complete.\n",
            "No valid geometries found for file: /content/drive/MyDrive/EE ML PFAS/Raster_Data/Environmental_Quality/Soil_Quality/Soil_Quality_Raster_Data /top_soil_year_quarter_2007_3.tif\n",
            "Processing complete.\n"
          ]
        },
        {
          "output_type": "stream",
          "name": "stderr",
          "text": [
            "/usr/local/lib/python3.10/dist-packages/IPython/core/interactiveshell.py:3473: FutureWarning: The `op` parameter is deprecated and will be removed in a future release. Please use the `predicate` parameter instead.\n",
            "  if (await self.run_code(code, result,  async_=asy)):\n"
          ]
        }
      ],
      "source": [
        "import pandas as pd\n",
        "import geopandas as gpd\n",
        "import os\n",
        "import rasterio\n",
        "import rasterio.features\n",
        "import rasterio.transform\n",
        "from google.colab import drive\n",
        "\n",
        "\n",
        "# Define the folder containing the CSV files\n",
        "csv_folder_path = '/content/drive/MyDrive/sam'\n",
        "\n",
        "# Load the California shapefile\n",
        "shapefile_path = '/content/drive/MyDrive/EE ML PFAS/Raw_Data/Mapping/California_Shapefile/California.shp'\n",
        "ca_shapefile = gpd.read_file(shapefile_path)\n",
        "ca_shapefile = ca_shapefile.to_crs('EPSG:4326')\n",
        "\n",
        "# Function to convert DataFrame to GeoDataFrame\n",
        "def convert_to_gdf(df, lat_col='Latitude', lon_col='Longitude'):\n",
        "    return gpd.GeoDataFrame(df, geometry=gpd.points_from_xy(df[lon_col], df[lat_col]), crs='EPSG:4326')\n",
        "\n",
        "# Function to plot and save GeoDataFrame as TIFF using rasterio\n",
        "def plot_and_save_tiff(gdf, title, output_path, bbox, width=1000, height=1000):\n",
        "    if gdf.empty or gdf.geometry.is_empty.all():\n",
        "        print(f\"No valid geometries found for file: {output_path}\")\n",
        "        return\n",
        "    # Dedent this line to align with 'if' statement\n",
        "    transform = rasterio.transform.from_bounds(*bbox, width, height)\n",
        "    out_shape = (height, width)\n",
        "\n",
        "    # Rasterize the GeoDataFrame\n",
        "    out_image = rasterio.features.rasterize(\n",
        "        [(geom, 1) for geom in gdf.geometry if geom.is_valid],\n",
        "        out_shape=out_shape,\n",
        "        transform=transform,\n",
        "        fill=0,\n",
        "        all_touched=True,\n",
        "        dtype='uint8'\n",
        "    )\n",
        "\n",
        "    # Save the rasterized image as a TIFF file\n",
        "    with rasterio.open(output_path, 'w', driver='GTiff',\n",
        "                       height=out_shape[0], width=out_shape[1],\n",
        "                       count=1, dtype='uint8',\n",
        "                       crs=gdf.crs, transform=transform) as dst:\n",
        "        dst.write(out_image, 1)\n",
        "\n",
        "\n",
        "\n",
        "# Process each CSV file in the folder\n",
        "for filename in os.listdir(csv_folder_path):\n",
        "    if filename.endswith('.csv'):\n",
        "        # Load CSV file\n",
        "        file_path = os.path.join(csv_folder_path, filename)\n",
        "        soil_data = pd.read_csv(file_path)\n",
        "\n",
        "        # Convert to GeoDataFrame\n",
        "        soil_gdf = convert_to_gdf(soil_data)\n",
        "\n",
        "        # Reproject to match California shapefile CRS\n",
        "        soil_gdf = soil_gdf.to_crs(ca_shapefile.crs)\n",
        "\n",
        "        # Perform spatial intersection\n",
        "        soil_ca = gpd.sjoin(soil_gdf, ca_shapefile, how='inner', op='intersects')\n",
        "\n",
        "        # Check for invalid or missing latitude values\n",
        "        invalid_latitudes = soil_ca[\n",
        "            (soil_ca.geometry.y < -90) | (soil_ca.geometry.y > 90) | soil_ca.geometry.y.isna()\n",
        "        ]\n",
        "\n",
        "        # If there are invalid latitudes, print a message and continue\n",
        "        if not invalid_latitudes.empty:\n",
        "            print(f\"Invalid or missing latitudes found in file: {filename}\")\n",
        "            continue\n",
        "\n",
        "        # Define output path for TIFF file\n",
        "        tiff_output_path = os.path.join('/content/drive/MyDrive/EE ML PFAS/Raster_Data/Environmental_Quality/Soil_Quality/Soil_Quality_Raster_Data ', f'{filename.replace(\".csv\", \"\")}.tif')\n",
        "\n",
        "       # Get the bounding box from the CA shapefile\n",
        "        bbox = ca_shapefile.total_bounds\n",
        "\n",
        "        # Plot and save TIFF using rasterio\n",
        "        plot_and_save_tiff(soil_ca, f'Soil Data in California - {filename}', tiff_output_path, bbox)\n",
        "\n",
        "        print(\"Processing complete.\")"
      ]
    },
    {
      "cell_type": "code",
      "source": [],
      "metadata": {
        "id": "3PpY7Iq1oqB-"
      },
      "execution_count": null,
      "outputs": []
    }
  ]
}